{
 "cells": [
  {
   "cell_type": "code",
   "execution_count": 1,
   "metadata": {},
   "outputs": [],
   "source": [
    "import spacy\n",
    "nlp = spacy.load('fr_default')"
   ]
  },
  {
   "cell_type": "code",
   "execution_count": 2,
   "metadata": {},
   "outputs": [
    {
     "name": "stdout",
     "output_type": "stream",
     "text": [
      "Je\tPRON\tnsubj\n",
      "voudrais\tAUX\tROOT\n",
      "voir\tSYM\tcc\n",
      "la\tDET\tdet\n",
      "relation\tNOUN\tROOT\n",
      "de\tADP\tcase\n",
      "la\tDET\tdet\n",
      "science\tNOUN\tnmod\n",
      "à\tADP\tcase\n",
      "la\tDET\tdet\n",
      "littérature\tNOUN\tnmod\n",
      ".\tPUNCT\tpunct\n"
     ]
    }
   ],
   "source": [
    "doc = nlp(\"Je voudrais voir la relation de la science à la littérature.\")\n",
    "for w in doc:\n",
    "    print(\"%s\\t%s\\t%s\" % (w, w.tag_, w.dep_))"
   ]
  }
 ],
 "metadata": {
  "kernelspec": {
   "display_name": "Python 3",
   "language": "python",
   "name": "python3"
  },
  "language_info": {
   "codemirror_mode": {
    "name": "ipython",
    "version": 3
   },
   "file_extension": ".py",
   "mimetype": "text/x-python",
   "name": "python",
   "nbconvert_exporter": "python",
   "pygments_lexer": "ipython3",
   "version": "3.5.2"
  }
 },
 "nbformat": 4,
 "nbformat_minor": 2
}
